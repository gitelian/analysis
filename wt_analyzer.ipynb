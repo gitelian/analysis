{
 "cells": [
  {
   "cell_type": "code",
   "execution_count": null,
   "metadata": {
    "collapsed": false
   },
   "outputs": [],
   "source": [
    "from ipywidgets import interact\n",
    "import numpy as np\n",
    "\n",
    "# %matplotlib inline\n",
    "%matplotlib notebook\n",
    "import matplotlib\n",
    "import matplotlib.pyplot as plt\n"
   ]
  },
  {
   "cell_type": "code",
   "execution_count": null,
   "metadata": {
    "collapsed": false,
    "scrolled": false
   },
   "outputs": [],
   "source": [
    "# %run neoanalyzer.py {'1302'}\n",
    "neuro.plot_tuning_curve(kind='evk_count')"
   ]
  },
  {
   "cell_type": "code",
   "execution_count": null,
   "metadata": {
    "collapsed": false,
    "scrolled": false
   },
   "outputs": [],
   "source": [
    "# LDA analysis\n",
    "trode = 0\n",
    "cond_offset = 18\n",
    "\n",
    "plt.figure()\n",
    "lda = LinearDiscriminantAnalysis(n_components=2)\n",
    "X, y = neuro.make_design_matrix('evk_count', trode=trode)\n",
    "X_r0 = X[y<8, :]\n",
    "y_r0 = y[y<8]\n",
    "X_r0 = lda.fit(X_r0, y_r0).transform(X_r0)\n",
    "plt.subplot(1,2,1)\n",
    "color=iter(cm.rainbow(np.linspace(0,1,len(np.unique(y_r0)))))\n",
    "for k in range(len(np.unique(y_r0))):\n",
    "   c = next(color)\n",
    "   plt.plot(X_r0[y_r0==k, 0], X_r0[y_r0==k, 1], 'o', c=c, label=str(k))\n",
    "plt.legend(loc='best')\n",
    "\n",
    "\n",
    "X, y = neuro.make_design_matrix('evk_count', trode=trode)\n",
    "trial_inds = np.logical_and(y>=9, y<17) # no control position\n",
    "# trial_inds = np.logical_and(y>=18, y<26) # no control position\n",
    "X_r0 = X[trial_inds, :]\n",
    "y_r0 = y[trial_inds]\n",
    "X_r0 = lda.fit(X_r0, y_r0).transform(X_r0)\n",
    "color=iter(cm.rainbow(np.linspace(0,1,len(np.unique(y_r0)))))\n",
    "plt.subplot(1,2,2)\n",
    "for k in range(len(np.unique(y_r0))):\n",
    "    c = next(color)\n",
    "    plt.plot(X_r0[y_r0==k+9, 0], X_r0[y_r0==k+9, 1], 'o', c=c, label=str(k))\n",
    "    plt.xlim(-6,6)\n",
    "    plt.ylim(-8, 4)\n",
    "#     plt.plot(X_r0[y_r0==k+9+9, 0], X_r0[y_r0==k+9+9, 1], 'o', c=c, label=str(k))\n",
    "plt.legend(loc='best')\n",
    "plt.show()\n",
    "\n",
    "print(X_r0)"
   ]
  },
  {
   "cell_type": "code",
   "execution_count": null,
   "metadata": {
    "collapsed": false,
    "scrolled": false
   },
   "outputs": [],
   "source": [
    "# set-point analysis\n",
    "\n",
    "def plot_setpoint(neuro, cond=0, color='k', error='sem'):\n",
    "    \n",
    "    ax = plt.gca()\n",
    "    sp_temp = neuro.wt[cond][:, 1, :]\n",
    "    mean_sp = np.mean(sp_temp, axis=1)\n",
    "    se      = sp.stats.sem(sp_temp, axis=1)\n",
    "    \n",
    "    # inverse of the CDF is the percentile function. ppf is the percent point funciton of t.\n",
    "    if error == 'ci':\n",
    "        err = se*sp.stats.t.ppf((1+0.95)/2.0, sp_temp.shape[1]-1) # (1+1.95)/2 = 0.975\n",
    "    elif error == 'sem':\n",
    "        err = se\n",
    "\n",
    "    plt.plot(neuro.wtt, mean_sp, color)\n",
    "    plt.fill_between(neuro.wtt, mean_sp - err, mean_sp + err, facecolor=color, alpha=0.3)\n",
    "    return ax\n",
    "\n",
    "for k in range(neuro.control_pos):\n",
    "    plt.figure()\n",
    "    plot_setpoint(neuro, cond=k, color='k')\n",
    "    plot_setpoint(neuro, cond=k+9, color='r')\n",
    "    plot_setpoint(neuro, cond=k+9+9, color='b')\n",
    "    plt.xlim(-0.5, 2.0)\n",
    "    plt.xlabel('time (s)')\n",
    "    plt.ylabel('set-point (deg)')\n",
    "    plt.title('condition {}'.format(str(k)))\n",
    "    plt.show()\n",
    "\n",
    "# neuro.rates(kind='wsk_boolean')\n",
    "# print(neuro.num_good_trials)\n",
    "\n"
   ]
  }
 ],
 "metadata": {
  "anaconda-cloud": {},
  "kernelspec": {
   "display_name": "Python [default]",
   "language": "python",
   "name": "python2"
  },
  "language_info": {
   "codemirror_mode": {
    "name": "ipython",
    "version": 2
   },
   "file_extension": ".py",
   "mimetype": "text/x-python",
   "name": "python",
   "nbconvert_exporter": "python",
   "pygments_lexer": "ipython2",
   "version": "2.7.12"
  }
 },
 "nbformat": 4,
 "nbformat_minor": 0
}
